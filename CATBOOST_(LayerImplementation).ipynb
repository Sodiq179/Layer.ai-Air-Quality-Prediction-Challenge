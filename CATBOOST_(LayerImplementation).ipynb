{
  "cells": [
    {
      "cell_type": "markdown",
      "metadata": {
        "id": "d452647a-e545-485a-840f-23e01291cbd5"
      },
      "source": [
        "## **Layer.ai Air Quality Prediction Challenge**\n"
      ],
      "id": "d452647a-e545-485a-840f-23e01291cbd5"
    },
    {
      "cell_type": "markdown",
      "source": [
        "![images.jpg](data:image/jpeg;base64,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)"
      ],
      "metadata": {
        "id": "b0EgVrihlCa6"
      },
      "id": "b0EgVrihlCa6"
    },
    {
      "cell_type": "markdown",
      "metadata": {
        "id": "fe61e9a8-0535-4021-ae7a-c3d5a4c42dcd"
      },
      "source": [
        "## **Install Layer**"
      ],
      "id": "fe61e9a8-0535-4021-ae7a-c3d5a4c42dcd"
    },
    {
      "cell_type": "code",
      "execution_count": 5,
      "metadata": {
        "id": "ee31a3ed-68f1-460d-90f4-7dbe89185702"
      },
      "outputs": [],
      "source": [
        "%%capture\n",
        "!pip install -U layer\n",
        "!pip install catboost"
      ],
      "id": "ee31a3ed-68f1-460d-90f4-7dbe89185702"
    },
    {
      "cell_type": "markdown",
      "metadata": {
        "id": "ycxTH-GSR3zk"
      },
      "source": [
        "# **UTILS**"
      ],
      "id": "ycxTH-GSR3zk"
    },
    {
      "cell_type": "code",
      "source": [
        "import layer\n",
        "from layer.decorators import dataset,model, pip_requirements"
      ],
      "metadata": {
        "id": "FewXOV9fWAfA"
      },
      "id": "FewXOV9fWAfA",
      "execution_count": 6,
      "outputs": []
    },
    {
      "cell_type": "code",
      "execution_count": 7,
      "metadata": {
        "id": "63859387-1f1a-4973-a250-dd36e6ac8d90"
      },
      "outputs": [],
      "source": [
        "import sklearn\n",
        "import datetime\n",
        "import numpy as np\n",
        "import pandas as pd \n",
        "import catboost\n",
        "from catboost import CatBoostRegressor\n",
        "\n",
        "from sklearn.cluster import KMeans\n",
        "from sklearn.experimental import enable_iterative_imputer\n",
        "from sklearn.impute import IterativeImputer\n",
        "from sklearn.metrics import mean_squared_error\n",
        "from sklearn.preprocessing import LabelEncoder\n",
        "from google.colab import files\n",
        "\n",
        "import warnings\n",
        "warnings.simplefilter('ignore')"
      ],
      "id": "63859387-1f1a-4973-a250-dd36e6ac8d90"
    },
    {
      "cell_type": "code",
      "source": [
        "print(f\"Numpy version=={np.__version__}\")\n",
        "print(f\"Pandas version=={pd.__version__}\")\n",
        "print(f\"catboost version=={catboost.__version__}\")\n",
        "print(f\"sklearn version=={sklearn.__version__}\")"
      ],
      "metadata": {
        "id": "b5D2iM-2Vm8K",
        "colab": {
          "base_uri": "https://localhost:8080/"
        },
        "outputId": "cce5584d-6d08-4e35-fcd8-217bc540f1ef"
      },
      "id": "b5D2iM-2Vm8K",
      "execution_count": 8,
      "outputs": [
        {
          "output_type": "stream",
          "name": "stdout",
          "text": [
            "Numpy version==1.21.6\n",
            "Pandas version==1.3.5\n",
            "catboost version==1.1\n",
            "sklearn version==1.0.2\n"
          ]
        }
      ]
    },
    {
      "cell_type": "code",
      "source": [
        "from sklearn.model_selection import KFold, StratifiedKFold"
      ],
      "metadata": {
        "id": "yRy_iN0oHzSd"
      },
      "id": "yRy_iN0oHzSd",
      "execution_count": 9,
      "outputs": []
    },
    {
      "cell_type": "code",
      "source": [
        "class PARAM:\n",
        "  \n",
        "  SEED = 42\n",
        "\n",
        "  n_splits = 10\n",
        "\n",
        "  params_xgb = {\n",
        "            'gpu_id': 0, \n",
        "            #'n_gpus': 2, \n",
        "            'objective': 'reg:squarederror', \n",
        "            'eval_metric': 'rmse', \n",
        "            'booster': 'gbtree', \n",
        "            'n_estimators': 6000, \n",
        "            'tree_method': 'gpu_hist', \n",
        "            'grow_policy': 'lossguide', \n",
        "            'max_depth': 8, \n",
        "           'learning_rate': 0.01, \n",
        "            'max_bin': 90, #\n",
        "            'max_leaves': 90, #\n",
        "            'reg_alpha': 8, \n",
        "            'reg_lambda': 20, \n",
        "            'subsample': 0.8}\n",
        "        \n",
        "folds = KFold(n_splits= PARAM.n_splits, random_state= PARAM.SEED, shuffle = True)\n",
        "\n",
        "def rmse(y_true, y_pred):\n",
        "    return np.sqrt(mean_squared_error(y_true, y_pred))"
      ],
      "metadata": {
        "id": "Mc1HNlHdabv8"
      },
      "id": "Mc1HNlHdabv8",
      "execution_count": 10,
      "outputs": []
    },
    {
      "cell_type": "markdown",
      "source": [
        "# **Login to layer**"
      ],
      "metadata": {
        "id": "s11VlfAkVbW4"
      },
      "id": "s11VlfAkVbW4"
    },
    {
      "cell_type": "code",
      "source": [
        "layer.login()"
      ],
      "metadata": {
        "id": "I5dKgPnRVe_1",
        "colab": {
          "base_uri": "https://localhost:8080/"
        },
        "outputId": "57cb053d-eba0-40d8-da47-bc82f7649c17"
      },
      "id": "I5dKgPnRVe_1",
      "execution_count": 11,
      "outputs": [
        {
          "output_type": "stream",
          "name": "stdout",
          "text": [
            "Please open the following link in your web browser. Once logged in, copy the code and paste it here.\n",
            "https://app.layer.ai/oauth/authorize?response_type=code&code_challenge=YY3ujvISTDNb-5_WNnHgVHUdGKUSm9pzsbGK5bsDmPk&code_challenge_method=S256&client_id=0STDdcnpK48P8A429EAAn93WNuLmViLR&redirect_uri=https://app.layer.ai/oauth/code&scope=offline_access&audience=https://app.layer.ai\n",
            "Code: NAG8vdx6KVMAFFcOrO-xnR-zmZSy1sYw_7YOqRwHNbNTN\n",
            "Successfully logged into https://app.layer.ai\n"
          ]
        }
      ]
    },
    {
      "cell_type": "markdown",
      "source": [
        "# **Create a Layer project**"
      ],
      "metadata": {
        "id": "5BzYOXxBWYr4"
      },
      "id": "5BzYOXxBWYr4"
    },
    {
      "cell_type": "code",
      "source": [
        "layer.init(\"Air_Quality_Hackathon\")"
      ],
      "metadata": {
        "id": "IPrNYFarVezP",
        "colab": {
          "base_uri": "https://localhost:8080/"
        },
        "outputId": "916b85ac-243a-40c8-dc53-ade1d9d80bb2"
      },
      "id": "IPrNYFarVezP",
      "execution_count": 12,
      "outputs": [
        {
          "output_type": "execute_result",
          "data": {
            "text/plain": [
              "Your Layer project is here: https://app.layer.ai/sodiq_damilola/Air_Quality_Hackathon"
            ]
          },
          "metadata": {},
          "execution_count": 12
        }
      ]
    },
    {
      "cell_type": "markdown",
      "metadata": {
        "id": "f4fc6bb3-47d2-417c-806a-8905728a5026"
      },
      "source": [
        "# **Fetch the datasets as Pandas DataFrames**"
      ],
      "id": "f4fc6bb3-47d2-417c-806a-8905728a5026"
    },
    {
      "cell_type": "code",
      "execution_count": 13,
      "metadata": {
        "colab": {
          "base_uri": "https://localhost:8080/",
          "referenced_widgets": [
            "bb4f6fe232ac4bc292931324c290fb55",
            "622edb0d9ce646ab8e1ef050052b7eea",
            "69cd2724566c451eb655a9c8490148d1",
            "fcc77c89fb1d4ed2a5564ac4c49152a3",
            "98424e7b9a6045da947f595d87037f2c",
            "603ca810d7a6477fb2eaed542ebde132"
          ],
          "height": 0
        },
        "id": "15a8b603-a0f4-4850-bd49-26afb3c93c93",
        "outputId": "35421af3-007f-4d50-f6ae-a931943a55be"
      },
      "outputs": [
        {
          "output_type": "display_data",
          "data": {
            "text/plain": [
              "Output()"
            ],
            "application/vnd.jupyter.widget-view+json": {
              "version_major": 2,
              "version_minor": 0,
              "model_id": "bb4f6fe232ac4bc292931324c290fb55"
            }
          },
          "metadata": {}
        },
        {
          "output_type": "display_data",
          "data": {
            "text/plain": [],
            "text/html": [
              "<pre style=\"white-space:pre;overflow-x:auto;line-height:normal;font-family:Menlo,'DejaVu Sans Mono',consolas,'Courier New',monospace\"></pre>\n"
            ]
          },
          "metadata": {}
        },
        {
          "output_type": "display_data",
          "data": {
            "text/plain": [
              "\n"
            ],
            "text/html": [
              "<pre style=\"white-space:pre;overflow-x:auto;line-height:normal;font-family:Menlo,'DejaVu Sans Mono',consolas,'Courier New',monospace\">\n",
              "</pre>\n"
            ]
          },
          "metadata": {}
        },
        {
          "output_type": "display_data",
          "data": {
            "text/plain": [
              "Output()"
            ],
            "application/vnd.jupyter.widget-view+json": {
              "version_major": 2,
              "version_minor": 0,
              "model_id": "69cd2724566c451eb655a9c8490148d1"
            }
          },
          "metadata": {}
        },
        {
          "output_type": "display_data",
          "data": {
            "text/plain": [],
            "text/html": [
              "<pre style=\"white-space:pre;overflow-x:auto;line-height:normal;font-family:Menlo,'DejaVu Sans Mono',consolas,'Courier New',monospace\"></pre>\n"
            ]
          },
          "metadata": {}
        },
        {
          "output_type": "display_data",
          "data": {
            "text/plain": [
              "\n"
            ],
            "text/html": [
              "<pre style=\"white-space:pre;overflow-x:auto;line-height:normal;font-family:Menlo,'DejaVu Sans Mono',consolas,'Courier New',monospace\">\n",
              "</pre>\n"
            ]
          },
          "metadata": {}
        },
        {
          "output_type": "display_data",
          "data": {
            "text/plain": [
              "Output()"
            ],
            "application/vnd.jupyter.widget-view+json": {
              "version_major": 2,
              "version_minor": 0,
              "model_id": "98424e7b9a6045da947f595d87037f2c"
            }
          },
          "metadata": {}
        },
        {
          "output_type": "display_data",
          "data": {
            "text/plain": [],
            "text/html": [
              "<pre style=\"white-space:pre;overflow-x:auto;line-height:normal;font-family:Menlo,'DejaVu Sans Mono',consolas,'Courier New',monospace\"></pre>\n"
            ]
          },
          "metadata": {}
        },
        {
          "output_type": "display_data",
          "data": {
            "text/plain": [
              "\n"
            ],
            "text/html": [
              "<pre style=\"white-space:pre;overflow-x:auto;line-height:normal;font-family:Menlo,'DejaVu Sans Mono',consolas,'Courier New',monospace\">\n",
              "</pre>\n"
            ]
          },
          "metadata": {}
        }
      ],
      "source": [
        "sample_submission = layer.get_dataset(\"zindi/air-quality/datasets/sample_submission\").to_pandas()\n",
        "test_df = layer.get_dataset(\"zindi/air-quality/datasets/test\").to_pandas()\n",
        "train_df = layer.get_dataset(\"zindi/air-quality/datasets/train\").to_pandas()"
      ],
      "id": "15a8b603-a0f4-4850-bd49-26afb3c93c93"
    },
    {
      "cell_type": "code",
      "execution_count": 14,
      "metadata": {
        "id": "b4ittT_o6YFk"
      },
      "outputs": [],
      "source": [
        "df = pd.concat([train_df.drop(\"pm2_5\", axis = 1), test_df]).reset_index(drop = True)"
      ],
      "id": "b4ittT_o6YFk"
    },
    {
      "cell_type": "code",
      "execution_count": 15,
      "metadata": {
        "id": "cAP2KgeI6YIP"
      },
      "outputs": [],
      "source": [
        "dropCol = (df.isnull().sum()/len(df))[(df.isnull().sum()/len(df)).gt(0.65)].index.to_list()"
      ],
      "id": "cAP2KgeI6YIP"
    },
    {
      "cell_type": "code",
      "execution_count": 16,
      "metadata": {
        "id": "x_45Q40k6YL0"
      },
      "outputs": [],
      "source": [
        "train_df = train_df.drop(dropCol, axis = 1).reset_index(drop = True)\n",
        "test_df = test_df.drop(dropCol, axis = 1).reset_index(drop = True)"
      ],
      "id": "x_45Q40k6YL0"
    },
    {
      "cell_type": "markdown",
      "metadata": {
        "id": "mX8pSR9qS9s3"
      },
      "source": [
        "# **Data Preprocessing**"
      ],
      "id": "mX8pSR9qS9s3"
    },
    {
      "cell_type": "code",
      "execution_count": 17,
      "metadata": {
        "id": "mHRUV6E4TB10"
      },
      "outputs": [],
      "source": [
        "class ProcessData:\n",
        "  \n",
        "  def process(self,train,test) :\n",
        "\n",
        "    ID_COL, TARGET_COL = 'ID', 'pm2_5'\n",
        "    train['date'] = pd.to_datetime(train['date'], format='%Y-%m-%d')\n",
        "    test['date'] = pd.to_datetime(test['date'], format='%Y-%m-%d')\n",
        "\n",
        "    train[\"train\"] = 1\n",
        "    test[\"train\"] = 0\n",
        "\n",
        "    df = pd.concat([train, test]).reset_index(drop=True)\n",
        "    df = df.sort_values('date').reset_index(drop=True)\n",
        "\n",
        "    df.fillna(df.groupby(['device'], as_index=False).mean(), inplace=True)\n",
        "    df.fillna(df.mean(), inplace=True)\n",
        "\n",
        "    engFeature = [x for x in df.columns if \"angle\" not in x if x not in  [\"date\", \"ID\", \"device\", \"site_latitude\", \"site_longitude\",\"pm2_5\", \"train\"]]\n",
        "    engFeature = [x for x in engFeature if \"height\" not in x if \"depth\" not in x if \"altitude\" not in x]\n",
        "   \n",
        "    features = [c for c in df.columns if c not in ['ID', 'date', 'pm2_5']]\n",
        "    df['device_freq'] = df['device'].map(df['device'].value_counts())\n",
        "\n",
        "    #########################################################################################################################################\n",
        "\n",
        "    for i in range(1, 10):\n",
        "      df[f'target_previous_{i}'] = df[TARGET_COL].shift(i)\n",
        "      df[f'target_next_{i}'] = df[TARGET_COL].shift(-i)\n",
        "\n",
        "    for i in range(1, 5):\n",
        "      df[f'target_next_exp_{i}'] = df[TARGET_COL].shift(i).expanding().mean()\n",
        "      df[f'target_prev_exp_{i}'] = df[TARGET_COL].shift(-i).expanding().mean()\n",
        "\n",
        "    for i in range(125, 135):\n",
        "      df[f'target_previous_{i}'] = df[TARGET_COL].shift(i)\n",
        "      df[f'target_next_{i}'] = df[TARGET_COL].shift(-i)\n",
        "\n",
        "    for i in range(125, 135):\n",
        "      df[f'target_next_exp_{i}'] = df[TARGET_COL].shift(i).expanding().mean()\n",
        "      df[f'target_prev_exp_{i}'] = df[TARGET_COL].shift(-i).expanding().mean()\n",
        "\n",
        "    ##############################################################################################################################################\n",
        "\n",
        "    dropColumns = []\n",
        "    for day in range(1, 5):\n",
        "      import math\n",
        "      colName = 'date' + str(day+1)\n",
        "      df[colName] = df['date']  + datetime.timedelta(days=day)\n",
        "      dropColumns.append(colName)\n",
        "\n",
        "      for col in ['dayofweek', 'weekofyear', 'days_in_month', 'dayofyear']:\n",
        "        df[colName +\"_\" + col] = getattr(df['date'].dt, col)\n",
        "        dropColumns.append(colName + \"_\" +  col)\n",
        "        dropColumns.append(colName + \"_\" + col + \"_norm\")\n",
        "        df[colName + \"_\" + col + \"_norm\"] = 2 * math.pi * df[colName +\"_\" + col] / df[colName +\"_\" + col].max()\n",
        "        df[colName + \"_\" + col + \"_sin\"] = np.sin(df[colName + \"_\" + col + \"_norm\"])\n",
        "        df[colName + \"_\" + col + \"_cos\"] = np.cos(df[colName + \"_\" + col + \"_norm\"])\n",
        "\n",
        "    df = df.drop(dropColumns, axis = 1)\n",
        "    ##############################################################################################################################################\n",
        "    # ----------------------------------------------------------------------------------------------\n",
        "    # ROLLING AGGREGATE FEATURES BASED ON DEVICE\n",
        "    # ----------------------------------------------------------------------------------------------\n",
        "    for roll in [3, 5, 7, 10, 50, 100]:\n",
        "      tempdfMean = df.rolling(roll).mean()[engFeature]\n",
        "      tempdfVar = df.rolling(roll).var()[engFeature]\n",
        "      for col in engFeature:\n",
        "        df[f\"{col}_rolling_mean_{roll}\"] = tempdfMean[col].values\n",
        "        df[f\"{col}_rolling_var_{roll}\"] = tempdfVar[col].values\n",
        "\n",
        "    for i in range(1, 15):\n",
        "      tmp = df[engFeature].shift(i)\n",
        "      tmp_diff_prev = df[engFeature] - tmp\n",
        "      tmp.columns = [c + f'_prev_{i}' for c in tmp.columns]\n",
        "      tmp_diff_prev.columns = [c + f'_prev_diff_{i}' for c in tmp_diff_prev.columns]\n",
        "      df = pd.concat([df, tmp, tmp_diff_prev], axis=1)\n",
        "      \n",
        "      tmp = df[engFeature].shift(-i)\n",
        "      tmp_diff_next = df[engFeature] - tmp\n",
        "      tmp.columns = [c + f'_next_{i}' for c in tmp.columns]\n",
        "      tmp_diff_next.columns = [c + f'_next_diff_{i}' for c in tmp_diff_next.columns]\n",
        "      df = pd.concat([df, tmp, tmp_diff_next], axis=1)\n",
        "\n",
        "    for i in range(1, 5):\n",
        "      tmp = df[engFeature].shift(i).expanding().mean()\n",
        "      tmp_diff_prev = df[engFeature] - tmp\n",
        "      tmp.columns = [c + f'_prev_exp_{i}' for c in tmp.columns]\n",
        "      tmp_diff_prev.columns = [c + f'_prev_exp_diff_{i}' for c in tmp_diff_prev.columns]\n",
        "      df = pd.concat([df, tmp, tmp_diff_prev], axis=1)\n",
        "      \n",
        "      tmp = df[engFeature].shift(-i).expanding().mean()\n",
        "      tmp.columns = [c + f'_next_exp_{i}' for c in tmp.columns]\n",
        "      tmp_diff_next.columns = [c + f'_next_exp_diff_{i}' for c in tmp_diff_next.columns]\n",
        "      df = pd.concat([df, tmp, tmp_diff_next], axis=1)\n",
        "\n",
        "    drop_columns = (df.isnull().sum()[(df.isnull().sum()/len(df)) > 0.9]/len(df)).index\n",
        "    good_col = [x for x in df.columns if x not in drop_columns]\n",
        "    df = df[good_col]\n",
        "\n",
        "    #####################################################################################################\n",
        "\n",
        "    timeFeatures = ['day', 'month', 'week', 'dayofweek']\n",
        "    for attr in timeFeatures:\n",
        "          df[attr] = getattr(df['date'].dt, attr)\n",
        "    df['is_weekend'] = (df['dayofweek'] >= 5)*1\n",
        "    df['quarter'] = df['day']%15\n",
        "    df['which_quarter'] = df['day']//15\n",
        "\n",
        "    for timeFeat in ['day', 'month', 'week', 'dayofweek','quarter', 'device']:\n",
        "      tempdfMean = df.groupby(timeFeat).mean()[engFeature].to_dict()\n",
        "      tempdfMedian = df.groupby(timeFeat).median()[engFeature].to_dict()\n",
        "      tempdfStd = df.groupby(timeFeat).std()[engFeature].to_dict()\n",
        "      tempdfVar = df.groupby(timeFeat).var()[engFeature].to_dict()\n",
        "      for col in engFeature:\n",
        "        df[f\"{col}_by_{timeFeat}_mean\"] = df[timeFeat].map(tempdfMean[col])\n",
        "        df[f\"{col}-{timeFeat}_mean\"] = df[col] - df[f\"{col}_by_{timeFeat}_mean\"]\n",
        "        df[f\"{col}/{timeFeat}_mean\"] = df[col] / df[f\"{col}_by_{timeFeat}_mean\"]\n",
        "\n",
        "        df[f\"{col}_by_{timeFeat}_median\"] = df[timeFeat].map(tempdfMedian[col])\n",
        "        df[f\"{col}-{timeFeat}_median\"] = df[col] - df[f\"{col}_by_{timeFeat}_median\"]\n",
        "        df[f\"{col}/{timeFeat}_median\"] = df[col] / df[f\"{col}_by_{timeFeat}_median\"]\n",
        "\n",
        "        df[f\"{col}_by_{timeFeat}_std\"] = df[timeFeat].map(tempdfStd[col])\n",
        "        df[f\"{col}-{timeFeat}_std\"] = df[col] - df[f\"{col}_by_{timeFeat}_std\"]\n",
        "        df[f\"{col}/{timeFeat}_std\"] = df[col] / df[f\"{col}_by_{timeFeat}_std\"]\n",
        "\n",
        "        df[f\"{col}_by_{timeFeat}_var\"] = df[timeFeat].map(tempdfVar[col])\n",
        "        df[f\"{col}-{timeFeat}_var\"] = df[col] - df[f\"{col}_by_{timeFeat}_var\"]\n",
        "        df[f\"{col}/{timeFeat}_var\"] = df[col] / df[f\"{col}_by_{timeFeat}_var\"]\n",
        "    #########################################################################################################################################\n",
        "    for col1 in engFeature:\n",
        "      for col2 in engFeature:\n",
        "        if col1 != col2:\n",
        "          df[f\"{col1}/{col2}\"] = df[col1]/df[col2]\n",
        "\n",
        "    ################################################################################################################################\n",
        "    df.fillna(df.groupby(['device'], as_index=False).mean(), inplace=True)\n",
        "    df.fillna(df.mean(), inplace=True)\n",
        "    # ----------------------------------------------------------------------------------------------\n",
        "    # ANGLE FEATURES\n",
        "    # ----------------------------------------------------------------------------------------------\n",
        "    angleFeat = [x for x in df.columns if \"angle\" in x]\n",
        "    df[angleFeat] = df[angleFeat].apply(lambda x : np.radians(x))\n",
        "    df[[f\"{x}_sin\" for x in angleFeat]] = df[angleFeat].apply(lambda x : np.sin(x))\n",
        "    df[[f\"{x}_cos\" for x in angleFeat]] = df[angleFeat].apply(lambda x : np.cos(x))\n",
        "\n",
        "    ################################################################################################################################\n",
        "    for cluster in [10,15,25,35]:\n",
        "      kmeans = KMeans(n_clusters=cluster)\n",
        "      kmeans.fit(df[engFeature])\n",
        "      df[f\"Cluster_{cluster}\"] = kmeans.predict(df[engFeature])\n",
        "\n",
        "    for clusterFeat in [\"Cluster_10\", \"Cluster_15\", \"Cluster_25\"]:\n",
        "      tempdfMean = df.groupby(clusterFeat).mean()[engFeature].to_dict()\n",
        "      tempdfVar = df.groupby(clusterFeat).var()[engFeature].to_dict()\n",
        "      for col in engFeature:\n",
        "        df[f\"{col}_by_{clusterFeat}_mean\"] = df[clusterFeat].map(tempdfMean[col])\n",
        "        df[f\"{col}_by_{clusterFeat}_var\"] = df[clusterFeat].map(tempdfVar[col])\n",
        "    ################################################################################################################################\n",
        "\n",
        "    # Get our New Train,Test\n",
        "    features = [x for x in df.columns if x not in [\"ID\", \"date\", \"device\",\"pm2_5\",\"train\"]]\n",
        "    train = df[df[\"train\"].eq(1)].drop([\"train\"], axis = 1).reset_index(drop=True)\n",
        "    test = df[df[\"train\"].eq(0)].drop([\"train\"], axis = 1).reset_index(drop=True)\n",
        "    target = train[\"pm2_5\"]\n",
        "    test_ID = test[\"ID\"]\n",
        "\n",
        "    return train[features], test[features], test_ID, target"
      ],
      "id": "mHRUV6E4TB10"
    },
    {
      "cell_type": "code",
      "execution_count": 18,
      "metadata": {
        "id": "j6o3PUrJTB8E"
      },
      "outputs": [],
      "source": [
        "processor = ProcessData()\n",
        "train_data, test_data, testID, target= processor.process(train_df , test_df)"
      ],
      "id": "j6o3PUrJTB8E"
    },
    {
      "cell_type": "code",
      "execution_count": 19,
      "metadata": {
        "colab": {
          "base_uri": "https://localhost:8080/",
          "height": 0
        },
        "id": "ckNDOYk-g5kA",
        "outputId": "ed3bc942-16da-4167-f2a9-f6650bb90090"
      },
      "outputs": [
        {
          "output_type": "execute_result",
          "data": {
            "text/plain": [
              "   site_latitude  site_longitude  humidity  temp_mean  \\\n",
              "0       0.059604        32.46032  0.846583  22.641667   \n",
              "1       0.059604        32.46032  0.783833  24.325000   \n",
              "2       0.059604        32.46032  0.741972  25.725000   \n",
              "3       0.059604        32.46032  0.748049  24.607986   \n",
              "4       0.059604        32.46032  0.735576  24.857639   \n",
              "\n",
              "   SulphurDioxide_SO2_column_number_density  \\\n",
              "0                                 -0.000251   \n",
              "1                                 -0.000132   \n",
              "2                                 -0.000169   \n",
              "3                                 -0.000286   \n",
              "4                                 -0.000120   \n",
              "\n",
              "   SulphurDioxide_SO2_column_number_density_amf  \\\n",
              "0                                      0.527936   \n",
              "1                                      0.562716   \n",
              "2                                      0.550671   \n",
              "3                                      0.669683   \n",
              "4                                      0.656247   \n",
              "\n",
              "   SulphurDioxide_SO2_slant_column_number_density  \\\n",
              "0                                       -0.000133   \n",
              "1                                       -0.000074   \n",
              "2                                       -0.000093   \n",
              "3                                       -0.000192   \n",
              "4                                       -0.000079   \n",
              "\n",
              "   SulphurDioxide_cloud_fraction  SulphurDioxide_sensor_azimuth_angle  \\\n",
              "0                       0.116888                            -1.716240   \n",
              "1                       0.023798                            -1.757054   \n",
              "2                       0.030852                             1.334801   \n",
              "3                       0.000000                             1.285022   \n",
              "4                       0.010367                             1.250467   \n",
              "\n",
              "   SulphurDioxide_sensor_zenith_angle  ...  \\\n",
              "0                            0.916533  ...   \n",
              "1                            0.464903  ...   \n",
              "2                            0.204861  ...   \n",
              "3                            0.763453  ...   \n",
              "4                            1.087169  ...   \n",
              "\n",
              "   Ozone_cloud_fraction_by_Cluster_25_mean  \\\n",
              "0                                 0.717963   \n",
              "1                                 0.258360   \n",
              "2                                 0.179792   \n",
              "3                                 0.401802   \n",
              "4                                 0.179792   \n",
              "\n",
              "   Ozone_cloud_fraction_by_Cluster_25_var  \\\n",
              "0                                0.100522   \n",
              "1                                0.014138   \n",
              "2                                0.006565   \n",
              "3                                0.104967   \n",
              "4                                0.006565   \n",
              "\n",
              "   Cloud_cloud_fraction_by_Cluster_25_mean  \\\n",
              "0                                 0.713587   \n",
              "1                                 0.257582   \n",
              "2                                 0.175319   \n",
              "3                                 0.555202   \n",
              "4                                 0.175319   \n",
              "\n",
              "   Cloud_cloud_fraction_by_Cluster_25_var  \\\n",
              "0                                0.105528   \n",
              "1                                0.012245   \n",
              "2                                0.005184   \n",
              "3                                0.027273   \n",
              "4                                0.005184   \n",
              "\n",
              "   Cloud_cloud_top_pressure_by_Cluster_25_mean  \\\n",
              "0                                 25685.388565   \n",
              "1                                 80435.874587   \n",
              "2                                 87111.317729   \n",
              "3                                 49822.814256   \n",
              "4                                 87111.317729   \n",
              "\n",
              "   Cloud_cloud_top_pressure_by_Cluster_25_var  \\\n",
              "0                                6.393150e+05   \n",
              "1                                2.973320e+06   \n",
              "2                                1.456092e+06   \n",
              "3                                1.987413e+05   \n",
              "4                                1.456092e+06   \n",
              "\n",
              "   Cloud_cloud_base_pressure_by_Cluster_25_mean  \\\n",
              "0                                  29684.816648   \n",
              "1                                  86689.633408   \n",
              "2                                  87804.886494   \n",
              "3                                  56065.123332   \n",
              "4                                  87804.886494   \n",
              "\n",
              "   Cloud_cloud_base_pressure_by_Cluster_25_var  \\\n",
              "0                                 8.684089e+05   \n",
              "1                                 2.448557e+06   \n",
              "2                                 3.541714e+04   \n",
              "3                                 1.895734e+05   \n",
              "4                                 3.541714e+04   \n",
              "\n",
              "   Cloud_surface_albedo_by_Cluster_25_mean  \\\n",
              "0                                 0.268219   \n",
              "1                                 0.263396   \n",
              "2                                 0.278746   \n",
              "3                                 0.267250   \n",
              "4                                 0.278746   \n",
              "\n",
              "   Cloud_surface_albedo_by_Cluster_25_var  \n",
              "0                                0.002570  \n",
              "1                                0.001715  \n",
              "2                                0.001397  \n",
              "3                                0.000793  \n",
              "4                                0.001397  \n",
              "\n",
              "[5 rows x 4445 columns]"
            ],
            "text/html": [
              "\n",
              "  <div id=\"df-47e562ca-d60b-4b7a-a8dd-8f1fef0f101f\">\n",
              "    <div class=\"colab-df-container\">\n",
              "      <div>\n",
              "<style scoped>\n",
              "    .dataframe tbody tr th:only-of-type {\n",
              "        vertical-align: middle;\n",
              "    }\n",
              "\n",
              "    .dataframe tbody tr th {\n",
              "        vertical-align: top;\n",
              "    }\n",
              "\n",
              "    .dataframe thead th {\n",
              "        text-align: right;\n",
              "    }\n",
              "</style>\n",
              "<table border=\"1\" class=\"dataframe\">\n",
              "  <thead>\n",
              "    <tr style=\"text-align: right;\">\n",
              "      <th></th>\n",
              "      <th>site_latitude</th>\n",
              "      <th>site_longitude</th>\n",
              "      <th>humidity</th>\n",
              "      <th>temp_mean</th>\n",
              "      <th>SulphurDioxide_SO2_column_number_density</th>\n",
              "      <th>SulphurDioxide_SO2_column_number_density_amf</th>\n",
              "      <th>SulphurDioxide_SO2_slant_column_number_density</th>\n",
              "      <th>SulphurDioxide_cloud_fraction</th>\n",
              "      <th>SulphurDioxide_sensor_azimuth_angle</th>\n",
              "      <th>SulphurDioxide_sensor_zenith_angle</th>\n",
              "      <th>...</th>\n",
              "      <th>Ozone_cloud_fraction_by_Cluster_25_mean</th>\n",
              "      <th>Ozone_cloud_fraction_by_Cluster_25_var</th>\n",
              "      <th>Cloud_cloud_fraction_by_Cluster_25_mean</th>\n",
              "      <th>Cloud_cloud_fraction_by_Cluster_25_var</th>\n",
              "      <th>Cloud_cloud_top_pressure_by_Cluster_25_mean</th>\n",
              "      <th>Cloud_cloud_top_pressure_by_Cluster_25_var</th>\n",
              "      <th>Cloud_cloud_base_pressure_by_Cluster_25_mean</th>\n",
              "      <th>Cloud_cloud_base_pressure_by_Cluster_25_var</th>\n",
              "      <th>Cloud_surface_albedo_by_Cluster_25_mean</th>\n",
              "      <th>Cloud_surface_albedo_by_Cluster_25_var</th>\n",
              "    </tr>\n",
              "  </thead>\n",
              "  <tbody>\n",
              "    <tr>\n",
              "      <th>0</th>\n",
              "      <td>0.059604</td>\n",
              "      <td>32.46032</td>\n",
              "      <td>0.846583</td>\n",
              "      <td>22.641667</td>\n",
              "      <td>-0.000251</td>\n",
              "      <td>0.527936</td>\n",
              "      <td>-0.000133</td>\n",
              "      <td>0.116888</td>\n",
              "      <td>-1.716240</td>\n",
              "      <td>0.916533</td>\n",
              "      <td>...</td>\n",
              "      <td>0.717963</td>\n",
              "      <td>0.100522</td>\n",
              "      <td>0.713587</td>\n",
              "      <td>0.105528</td>\n",
              "      <td>25685.388565</td>\n",
              "      <td>6.393150e+05</td>\n",
              "      <td>29684.816648</td>\n",
              "      <td>8.684089e+05</td>\n",
              "      <td>0.268219</td>\n",
              "      <td>0.002570</td>\n",
              "    </tr>\n",
              "    <tr>\n",
              "      <th>1</th>\n",
              "      <td>0.059604</td>\n",
              "      <td>32.46032</td>\n",
              "      <td>0.783833</td>\n",
              "      <td>24.325000</td>\n",
              "      <td>-0.000132</td>\n",
              "      <td>0.562716</td>\n",
              "      <td>-0.000074</td>\n",
              "      <td>0.023798</td>\n",
              "      <td>-1.757054</td>\n",
              "      <td>0.464903</td>\n",
              "      <td>...</td>\n",
              "      <td>0.258360</td>\n",
              "      <td>0.014138</td>\n",
              "      <td>0.257582</td>\n",
              "      <td>0.012245</td>\n",
              "      <td>80435.874587</td>\n",
              "      <td>2.973320e+06</td>\n",
              "      <td>86689.633408</td>\n",
              "      <td>2.448557e+06</td>\n",
              "      <td>0.263396</td>\n",
              "      <td>0.001715</td>\n",
              "    </tr>\n",
              "    <tr>\n",
              "      <th>2</th>\n",
              "      <td>0.059604</td>\n",
              "      <td>32.46032</td>\n",
              "      <td>0.741972</td>\n",
              "      <td>25.725000</td>\n",
              "      <td>-0.000169</td>\n",
              "      <td>0.550671</td>\n",
              "      <td>-0.000093</td>\n",
              "      <td>0.030852</td>\n",
              "      <td>1.334801</td>\n",
              "      <td>0.204861</td>\n",
              "      <td>...</td>\n",
              "      <td>0.179792</td>\n",
              "      <td>0.006565</td>\n",
              "      <td>0.175319</td>\n",
              "      <td>0.005184</td>\n",
              "      <td>87111.317729</td>\n",
              "      <td>1.456092e+06</td>\n",
              "      <td>87804.886494</td>\n",
              "      <td>3.541714e+04</td>\n",
              "      <td>0.278746</td>\n",
              "      <td>0.001397</td>\n",
              "    </tr>\n",
              "    <tr>\n",
              "      <th>3</th>\n",
              "      <td>0.059604</td>\n",
              "      <td>32.46032</td>\n",
              "      <td>0.748049</td>\n",
              "      <td>24.607986</td>\n",
              "      <td>-0.000286</td>\n",
              "      <td>0.669683</td>\n",
              "      <td>-0.000192</td>\n",
              "      <td>0.000000</td>\n",
              "      <td>1.285022</td>\n",
              "      <td>0.763453</td>\n",
              "      <td>...</td>\n",
              "      <td>0.401802</td>\n",
              "      <td>0.104967</td>\n",
              "      <td>0.555202</td>\n",
              "      <td>0.027273</td>\n",
              "      <td>49822.814256</td>\n",
              "      <td>1.987413e+05</td>\n",
              "      <td>56065.123332</td>\n",
              "      <td>1.895734e+05</td>\n",
              "      <td>0.267250</td>\n",
              "      <td>0.000793</td>\n",
              "    </tr>\n",
              "    <tr>\n",
              "      <th>4</th>\n",
              "      <td>0.059604</td>\n",
              "      <td>32.46032</td>\n",
              "      <td>0.735576</td>\n",
              "      <td>24.857639</td>\n",
              "      <td>-0.000120</td>\n",
              "      <td>0.656247</td>\n",
              "      <td>-0.000079</td>\n",
              "      <td>0.010367</td>\n",
              "      <td>1.250467</td>\n",
              "      <td>1.087169</td>\n",
              "      <td>...</td>\n",
              "      <td>0.179792</td>\n",
              "      <td>0.006565</td>\n",
              "      <td>0.175319</td>\n",
              "      <td>0.005184</td>\n",
              "      <td>87111.317729</td>\n",
              "      <td>1.456092e+06</td>\n",
              "      <td>87804.886494</td>\n",
              "      <td>3.541714e+04</td>\n",
              "      <td>0.278746</td>\n",
              "      <td>0.001397</td>\n",
              "    </tr>\n",
              "  </tbody>\n",
              "</table>\n",
              "<p>5 rows × 4445 columns</p>\n",
              "</div>\n",
              "      <button class=\"colab-df-convert\" onclick=\"convertToInteractive('df-47e562ca-d60b-4b7a-a8dd-8f1fef0f101f')\"\n",
              "              title=\"Convert this dataframe to an interactive table.\"\n",
              "              style=\"display:none;\">\n",
              "        \n",
              "  <svg xmlns=\"http://www.w3.org/2000/svg\" height=\"24px\"viewBox=\"0 0 24 24\"\n",
              "       width=\"24px\">\n",
              "    <path d=\"M0 0h24v24H0V0z\" fill=\"none\"/>\n",
              "    <path d=\"M18.56 5.44l.94 2.06.94-2.06 2.06-.94-2.06-.94-.94-2.06-.94 2.06-2.06.94zm-11 1L8.5 8.5l.94-2.06 2.06-.94-2.06-.94L8.5 2.5l-.94 2.06-2.06.94zm10 10l.94 2.06.94-2.06 2.06-.94-2.06-.94-.94-2.06-.94 2.06-2.06.94z\"/><path d=\"M17.41 7.96l-1.37-1.37c-.4-.4-.92-.59-1.43-.59-.52 0-1.04.2-1.43.59L10.3 9.45l-7.72 7.72c-.78.78-.78 2.05 0 2.83L4 21.41c.39.39.9.59 1.41.59.51 0 1.02-.2 1.41-.59l7.78-7.78 2.81-2.81c.8-.78.8-2.07 0-2.86zM5.41 20L4 18.59l7.72-7.72 1.47 1.35L5.41 20z\"/>\n",
              "  </svg>\n",
              "      </button>\n",
              "      \n",
              "  <style>\n",
              "    .colab-df-container {\n",
              "      display:flex;\n",
              "      flex-wrap:wrap;\n",
              "      gap: 12px;\n",
              "    }\n",
              "\n",
              "    .colab-df-convert {\n",
              "      background-color: #E8F0FE;\n",
              "      border: none;\n",
              "      border-radius: 50%;\n",
              "      cursor: pointer;\n",
              "      display: none;\n",
              "      fill: #1967D2;\n",
              "      height: 32px;\n",
              "      padding: 0 0 0 0;\n",
              "      width: 32px;\n",
              "    }\n",
              "\n",
              "    .colab-df-convert:hover {\n",
              "      background-color: #E2EBFA;\n",
              "      box-shadow: 0px 1px 2px rgba(60, 64, 67, 0.3), 0px 1px 3px 1px rgba(60, 64, 67, 0.15);\n",
              "      fill: #174EA6;\n",
              "    }\n",
              "\n",
              "    [theme=dark] .colab-df-convert {\n",
              "      background-color: #3B4455;\n",
              "      fill: #D2E3FC;\n",
              "    }\n",
              "\n",
              "    [theme=dark] .colab-df-convert:hover {\n",
              "      background-color: #434B5C;\n",
              "      box-shadow: 0px 1px 3px 1px rgba(0, 0, 0, 0.15);\n",
              "      filter: drop-shadow(0px 1px 2px rgba(0, 0, 0, 0.3));\n",
              "      fill: #FFFFFF;\n",
              "    }\n",
              "  </style>\n",
              "\n",
              "      <script>\n",
              "        const buttonEl =\n",
              "          document.querySelector('#df-47e562ca-d60b-4b7a-a8dd-8f1fef0f101f button.colab-df-convert');\n",
              "        buttonEl.style.display =\n",
              "          google.colab.kernel.accessAllowed ? 'block' : 'none';\n",
              "\n",
              "        async function convertToInteractive(key) {\n",
              "          const element = document.querySelector('#df-47e562ca-d60b-4b7a-a8dd-8f1fef0f101f');\n",
              "          const dataTable =\n",
              "            await google.colab.kernel.invokeFunction('convertToInteractive',\n",
              "                                                     [key], {});\n",
              "          if (!dataTable) return;\n",
              "\n",
              "          const docLinkHtml = 'Like what you see? Visit the ' +\n",
              "            '<a target=\"_blank\" href=https://colab.research.google.com/notebooks/data_table.ipynb>data table notebook</a>'\n",
              "            + ' to learn more about interactive tables.';\n",
              "          element.innerHTML = '';\n",
              "          dataTable['output_type'] = 'display_data';\n",
              "          await google.colab.output.renderOutput(dataTable, element);\n",
              "          const docLink = document.createElement('div');\n",
              "          docLink.innerHTML = docLinkHtml;\n",
              "          element.appendChild(docLink);\n",
              "        }\n",
              "      </script>\n",
              "    </div>\n",
              "  </div>\n",
              "  "
            ]
          },
          "metadata": {},
          "execution_count": 19
        }
      ],
      "source": [
        "train_data.head()"
      ],
      "id": "ckNDOYk-g5kA"
    },
    {
      "cell_type": "code",
      "execution_count": 20,
      "metadata": {
        "colab": {
          "base_uri": "https://localhost:8080/",
          "height": 0
        },
        "id": "SbCRZMntxrnI",
        "outputId": "f9fdd361-9766-4869-dc64-c5448f78aa98"
      },
      "outputs": [
        {
          "output_type": "execute_result",
          "data": {
            "text/plain": [
              "   site_latitude  site_longitude  humidity  temp_mean  \\\n",
              "0       0.289040       32.589580  0.792427  23.349306   \n",
              "1       0.381576       32.647109  0.877986  21.642014   \n",
              "2       0.357987       32.584100  0.870479  22.788542   \n",
              "3       0.379562       32.553714  0.887281  21.315436   \n",
              "4       0.343898       32.587226  0.831451  21.795139   \n",
              "\n",
              "   SulphurDioxide_SO2_column_number_density  \\\n",
              "0                                  0.000149   \n",
              "1                                 -0.000306   \n",
              "2                                  0.000024   \n",
              "3                                  0.000024   \n",
              "4                                  0.000024   \n",
              "\n",
              "   SulphurDioxide_SO2_column_number_density_amf  \\\n",
              "0                                      0.874902   \n",
              "1                                      0.811054   \n",
              "2                                      0.790664   \n",
              "3                                      0.790664   \n",
              "4                                      0.790664   \n",
              "\n",
              "   SulphurDioxide_SO2_slant_column_number_density  \\\n",
              "0                                        0.000129   \n",
              "1                                       -0.000248   \n",
              "2                                        0.000014   \n",
              "3                                        0.000014   \n",
              "4                                        0.000014   \n",
              "\n",
              "   SulphurDioxide_cloud_fraction  SulphurDioxide_sensor_azimuth_angle  \\\n",
              "0                       0.237890                             1.315588   \n",
              "1                       0.242543                             1.316665   \n",
              "2                       0.149336                            -0.264513   \n",
              "3                       0.149336                            -0.264513   \n",
              "4                       0.149336                            -0.264513   \n",
              "\n",
              "   SulphurDioxide_sensor_zenith_angle  ...  \\\n",
              "0                            0.431532  ...   \n",
              "1                            0.418310  ...   \n",
              "2                            0.670990  ...   \n",
              "3                            0.670990  ...   \n",
              "4                            0.670990  ...   \n",
              "\n",
              "   Ozone_cloud_fraction_by_Cluster_25_mean  \\\n",
              "0                                 0.450067   \n",
              "1                                 0.545456   \n",
              "2                                 0.505722   \n",
              "3                                 0.505722   \n",
              "4                                 0.505722   \n",
              "\n",
              "   Ozone_cloud_fraction_by_Cluster_25_var  \\\n",
              "0                                0.072178   \n",
              "1                                0.128757   \n",
              "2                                0.121175   \n",
              "3                                0.121175   \n",
              "4                                0.121175   \n",
              "\n",
              "   Cloud_cloud_fraction_by_Cluster_25_mean  \\\n",
              "0                                 0.449008   \n",
              "1                                 0.555740   \n",
              "2                                 0.497869   \n",
              "3                                 0.497869   \n",
              "4                                 0.497869   \n",
              "\n",
              "   Cloud_cloud_fraction_by_Cluster_25_var  \\\n",
              "0                                0.072443   \n",
              "1                                0.132716   \n",
              "2                                0.122309   \n",
              "3                                0.122309   \n",
              "4                                0.122309   \n",
              "\n",
              "   Cloud_cloud_top_pressure_by_Cluster_25_mean  \\\n",
              "0                                 64809.523043   \n",
              "1                                 40608.622535   \n",
              "2                                 43465.985607   \n",
              "3                                 43465.985607   \n",
              "4                                 43465.985607   \n",
              "\n",
              "   Cloud_cloud_top_pressure_by_Cluster_25_var  \\\n",
              "0                               864090.898276   \n",
              "1                               684252.885119   \n",
              "2                               654806.070669   \n",
              "3                               654806.070669   \n",
              "4                               654806.070669   \n",
              "\n",
              "   Cloud_cloud_base_pressure_by_Cluster_25_mean  \\\n",
              "0                                  72907.912376   \n",
              "1                                  46323.662997   \n",
              "2                                  49419.996302   \n",
              "3                                  49419.996302   \n",
              "4                                  49419.996302   \n",
              "\n",
              "   Cloud_cloud_base_pressure_by_Cluster_25_var  \\\n",
              "0                                 1.258519e+06   \n",
              "1                                 7.190012e+05   \n",
              "2                                 8.922313e+05   \n",
              "3                                 8.922313e+05   \n",
              "4                                 8.922313e+05   \n",
              "\n",
              "   Cloud_surface_albedo_by_Cluster_25_mean  \\\n",
              "0                                 0.275098   \n",
              "1                                 0.263796   \n",
              "2                                 0.261021   \n",
              "3                                 0.261021   \n",
              "4                                 0.261021   \n",
              "\n",
              "   Cloud_surface_albedo_by_Cluster_25_var  \n",
              "0                                0.002613  \n",
              "1                                0.002953  \n",
              "2                                0.002665  \n",
              "3                                0.002665  \n",
              "4                                0.002665  \n",
              "\n",
              "[5 rows x 4445 columns]"
            ],
            "text/html": [
              "\n",
              "  <div id=\"df-bd8bb9c2-b7bd-46f4-8cdb-623424a5cbfe\">\n",
              "    <div class=\"colab-df-container\">\n",
              "      <div>\n",
              "<style scoped>\n",
              "    .dataframe tbody tr th:only-of-type {\n",
              "        vertical-align: middle;\n",
              "    }\n",
              "\n",
              "    .dataframe tbody tr th {\n",
              "        vertical-align: top;\n",
              "    }\n",
              "\n",
              "    .dataframe thead th {\n",
              "        text-align: right;\n",
              "    }\n",
              "</style>\n",
              "<table border=\"1\" class=\"dataframe\">\n",
              "  <thead>\n",
              "    <tr style=\"text-align: right;\">\n",
              "      <th></th>\n",
              "      <th>site_latitude</th>\n",
              "      <th>site_longitude</th>\n",
              "      <th>humidity</th>\n",
              "      <th>temp_mean</th>\n",
              "      <th>SulphurDioxide_SO2_column_number_density</th>\n",
              "      <th>SulphurDioxide_SO2_column_number_density_amf</th>\n",
              "      <th>SulphurDioxide_SO2_slant_column_number_density</th>\n",
              "      <th>SulphurDioxide_cloud_fraction</th>\n",
              "      <th>SulphurDioxide_sensor_azimuth_angle</th>\n",
              "      <th>SulphurDioxide_sensor_zenith_angle</th>\n",
              "      <th>...</th>\n",
              "      <th>Ozone_cloud_fraction_by_Cluster_25_mean</th>\n",
              "      <th>Ozone_cloud_fraction_by_Cluster_25_var</th>\n",
              "      <th>Cloud_cloud_fraction_by_Cluster_25_mean</th>\n",
              "      <th>Cloud_cloud_fraction_by_Cluster_25_var</th>\n",
              "      <th>Cloud_cloud_top_pressure_by_Cluster_25_mean</th>\n",
              "      <th>Cloud_cloud_top_pressure_by_Cluster_25_var</th>\n",
              "      <th>Cloud_cloud_base_pressure_by_Cluster_25_mean</th>\n",
              "      <th>Cloud_cloud_base_pressure_by_Cluster_25_var</th>\n",
              "      <th>Cloud_surface_albedo_by_Cluster_25_mean</th>\n",
              "      <th>Cloud_surface_albedo_by_Cluster_25_var</th>\n",
              "    </tr>\n",
              "  </thead>\n",
              "  <tbody>\n",
              "    <tr>\n",
              "      <th>0</th>\n",
              "      <td>0.289040</td>\n",
              "      <td>32.589580</td>\n",
              "      <td>0.792427</td>\n",
              "      <td>23.349306</td>\n",
              "      <td>0.000149</td>\n",
              "      <td>0.874902</td>\n",
              "      <td>0.000129</td>\n",
              "      <td>0.237890</td>\n",
              "      <td>1.315588</td>\n",
              "      <td>0.431532</td>\n",
              "      <td>...</td>\n",
              "      <td>0.450067</td>\n",
              "      <td>0.072178</td>\n",
              "      <td>0.449008</td>\n",
              "      <td>0.072443</td>\n",
              "      <td>64809.523043</td>\n",
              "      <td>864090.898276</td>\n",
              "      <td>72907.912376</td>\n",
              "      <td>1.258519e+06</td>\n",
              "      <td>0.275098</td>\n",
              "      <td>0.002613</td>\n",
              "    </tr>\n",
              "    <tr>\n",
              "      <th>1</th>\n",
              "      <td>0.381576</td>\n",
              "      <td>32.647109</td>\n",
              "      <td>0.877986</td>\n",
              "      <td>21.642014</td>\n",
              "      <td>-0.000306</td>\n",
              "      <td>0.811054</td>\n",
              "      <td>-0.000248</td>\n",
              "      <td>0.242543</td>\n",
              "      <td>1.316665</td>\n",
              "      <td>0.418310</td>\n",
              "      <td>...</td>\n",
              "      <td>0.545456</td>\n",
              "      <td>0.128757</td>\n",
              "      <td>0.555740</td>\n",
              "      <td>0.132716</td>\n",
              "      <td>40608.622535</td>\n",
              "      <td>684252.885119</td>\n",
              "      <td>46323.662997</td>\n",
              "      <td>7.190012e+05</td>\n",
              "      <td>0.263796</td>\n",
              "      <td>0.002953</td>\n",
              "    </tr>\n",
              "    <tr>\n",
              "      <th>2</th>\n",
              "      <td>0.357987</td>\n",
              "      <td>32.584100</td>\n",
              "      <td>0.870479</td>\n",
              "      <td>22.788542</td>\n",
              "      <td>0.000024</td>\n",
              "      <td>0.790664</td>\n",
              "      <td>0.000014</td>\n",
              "      <td>0.149336</td>\n",
              "      <td>-0.264513</td>\n",
              "      <td>0.670990</td>\n",
              "      <td>...</td>\n",
              "      <td>0.505722</td>\n",
              "      <td>0.121175</td>\n",
              "      <td>0.497869</td>\n",
              "      <td>0.122309</td>\n",
              "      <td>43465.985607</td>\n",
              "      <td>654806.070669</td>\n",
              "      <td>49419.996302</td>\n",
              "      <td>8.922313e+05</td>\n",
              "      <td>0.261021</td>\n",
              "      <td>0.002665</td>\n",
              "    </tr>\n",
              "    <tr>\n",
              "      <th>3</th>\n",
              "      <td>0.379562</td>\n",
              "      <td>32.553714</td>\n",
              "      <td>0.887281</td>\n",
              "      <td>21.315436</td>\n",
              "      <td>0.000024</td>\n",
              "      <td>0.790664</td>\n",
              "      <td>0.000014</td>\n",
              "      <td>0.149336</td>\n",
              "      <td>-0.264513</td>\n",
              "      <td>0.670990</td>\n",
              "      <td>...</td>\n",
              "      <td>0.505722</td>\n",
              "      <td>0.121175</td>\n",
              "      <td>0.497869</td>\n",
              "      <td>0.122309</td>\n",
              "      <td>43465.985607</td>\n",
              "      <td>654806.070669</td>\n",
              "      <td>49419.996302</td>\n",
              "      <td>8.922313e+05</td>\n",
              "      <td>0.261021</td>\n",
              "      <td>0.002665</td>\n",
              "    </tr>\n",
              "    <tr>\n",
              "      <th>4</th>\n",
              "      <td>0.343898</td>\n",
              "      <td>32.587226</td>\n",
              "      <td>0.831451</td>\n",
              "      <td>21.795139</td>\n",
              "      <td>0.000024</td>\n",
              "      <td>0.790664</td>\n",
              "      <td>0.000014</td>\n",
              "      <td>0.149336</td>\n",
              "      <td>-0.264513</td>\n",
              "      <td>0.670990</td>\n",
              "      <td>...</td>\n",
              "      <td>0.505722</td>\n",
              "      <td>0.121175</td>\n",
              "      <td>0.497869</td>\n",
              "      <td>0.122309</td>\n",
              "      <td>43465.985607</td>\n",
              "      <td>654806.070669</td>\n",
              "      <td>49419.996302</td>\n",
              "      <td>8.922313e+05</td>\n",
              "      <td>0.261021</td>\n",
              "      <td>0.002665</td>\n",
              "    </tr>\n",
              "  </tbody>\n",
              "</table>\n",
              "<p>5 rows × 4445 columns</p>\n",
              "</div>\n",
              "      <button class=\"colab-df-convert\" onclick=\"convertToInteractive('df-bd8bb9c2-b7bd-46f4-8cdb-623424a5cbfe')\"\n",
              "              title=\"Convert this dataframe to an interactive table.\"\n",
              "              style=\"display:none;\">\n",
              "        \n",
              "  <svg xmlns=\"http://www.w3.org/2000/svg\" height=\"24px\"viewBox=\"0 0 24 24\"\n",
              "       width=\"24px\">\n",
              "    <path d=\"M0 0h24v24H0V0z\" fill=\"none\"/>\n",
              "    <path d=\"M18.56 5.44l.94 2.06.94-2.06 2.06-.94-2.06-.94-.94-2.06-.94 2.06-2.06.94zm-11 1L8.5 8.5l.94-2.06 2.06-.94-2.06-.94L8.5 2.5l-.94 2.06-2.06.94zm10 10l.94 2.06.94-2.06 2.06-.94-2.06-.94-.94-2.06-.94 2.06-2.06.94z\"/><path d=\"M17.41 7.96l-1.37-1.37c-.4-.4-.92-.59-1.43-.59-.52 0-1.04.2-1.43.59L10.3 9.45l-7.72 7.72c-.78.78-.78 2.05 0 2.83L4 21.41c.39.39.9.59 1.41.59.51 0 1.02-.2 1.41-.59l7.78-7.78 2.81-2.81c.8-.78.8-2.07 0-2.86zM5.41 20L4 18.59l7.72-7.72 1.47 1.35L5.41 20z\"/>\n",
              "  </svg>\n",
              "      </button>\n",
              "      \n",
              "  <style>\n",
              "    .colab-df-container {\n",
              "      display:flex;\n",
              "      flex-wrap:wrap;\n",
              "      gap: 12px;\n",
              "    }\n",
              "\n",
              "    .colab-df-convert {\n",
              "      background-color: #E8F0FE;\n",
              "      border: none;\n",
              "      border-radius: 50%;\n",
              "      cursor: pointer;\n",
              "      display: none;\n",
              "      fill: #1967D2;\n",
              "      height: 32px;\n",
              "      padding: 0 0 0 0;\n",
              "      width: 32px;\n",
              "    }\n",
              "\n",
              "    .colab-df-convert:hover {\n",
              "      background-color: #E2EBFA;\n",
              "      box-shadow: 0px 1px 2px rgba(60, 64, 67, 0.3), 0px 1px 3px 1px rgba(60, 64, 67, 0.15);\n",
              "      fill: #174EA6;\n",
              "    }\n",
              "\n",
              "    [theme=dark] .colab-df-convert {\n",
              "      background-color: #3B4455;\n",
              "      fill: #D2E3FC;\n",
              "    }\n",
              "\n",
              "    [theme=dark] .colab-df-convert:hover {\n",
              "      background-color: #434B5C;\n",
              "      box-shadow: 0px 1px 3px 1px rgba(0, 0, 0, 0.15);\n",
              "      filter: drop-shadow(0px 1px 2px rgba(0, 0, 0, 0.3));\n",
              "      fill: #FFFFFF;\n",
              "    }\n",
              "  </style>\n",
              "\n",
              "      <script>\n",
              "        const buttonEl =\n",
              "          document.querySelector('#df-bd8bb9c2-b7bd-46f4-8cdb-623424a5cbfe button.colab-df-convert');\n",
              "        buttonEl.style.display =\n",
              "          google.colab.kernel.accessAllowed ? 'block' : 'none';\n",
              "\n",
              "        async function convertToInteractive(key) {\n",
              "          const element = document.querySelector('#df-bd8bb9c2-b7bd-46f4-8cdb-623424a5cbfe');\n",
              "          const dataTable =\n",
              "            await google.colab.kernel.invokeFunction('convertToInteractive',\n",
              "                                                     [key], {});\n",
              "          if (!dataTable) return;\n",
              "\n",
              "          const docLinkHtml = 'Like what you see? Visit the ' +\n",
              "            '<a target=\"_blank\" href=https://colab.research.google.com/notebooks/data_table.ipynb>data table notebook</a>'\n",
              "            + ' to learn more about interactive tables.';\n",
              "          element.innerHTML = '';\n",
              "          dataTable['output_type'] = 'display_data';\n",
              "          await google.colab.output.renderOutput(dataTable, element);\n",
              "          const docLink = document.createElement('div');\n",
              "          docLink.innerHTML = docLinkHtml;\n",
              "          element.appendChild(docLink);\n",
              "        }\n",
              "      </script>\n",
              "    </div>\n",
              "  </div>\n",
              "  "
            ]
          },
          "metadata": {},
          "execution_count": 20
        }
      ],
      "source": [
        "test_data.head()"
      ],
      "id": "SbCRZMntxrnI"
    },
    {
      "cell_type": "code",
      "execution_count": 21,
      "metadata": {
        "colab": {
          "base_uri": "https://localhost:8080/"
        },
        "id": "FNVdHzAix77L",
        "outputId": "20a33c42-22f7-4a5a-879d-6b6dc5309718"
      },
      "outputs": [
        {
          "output_type": "execute_result",
          "data": {
            "text/plain": [
              "((9923, 4445), (4254, 4445))"
            ]
          },
          "metadata": {},
          "execution_count": 21
        }
      ],
      "source": [
        "train_data.shape, test_data.shape"
      ],
      "id": "FNVdHzAix77L"
    },
    {
      "cell_type": "markdown",
      "metadata": {
        "id": "C8j7VAWCMSPQ"
      },
      "source": [
        "# **CATBOOST Model  Functions**"
      ],
      "id": "C8j7VAWCMSPQ"
    },
    {
      "cell_type": "code",
      "source": [
        "@model(\"CATBOOST_MODEL\")\n",
        "def train_cross_validation():\n",
        "\n",
        "  layer.log({\"Features size\": len(train_data.columns)})\n",
        "  layer.log({\"Train_shape\": train_data.shape[0]})\n",
        "  layer.log({\"Test_shape\": test_data.shape[0]})\n",
        "  layer.log({\"SEED\": PARAM.SEED})\n",
        "  layer.log({\"Cross Validation Type\": \"KFOLD CROSS VALIDATION\"})\n",
        "  \n",
        "  train_preds = np.zeros(len(train_data))\n",
        "  test_preds = np.zeros(len(test_data))\n",
        "\n",
        "  for fold_, (trn_idx, val_idx) in enumerate(folds.split(train_data.values, target)):\n",
        "      print(50*'-')\n",
        "      print(f'Fold {fold_+1} / {PARAM.n_splits}' )\n",
        "      print(50*'-')\n",
        "      X_trn, X_val, X_test = train_data.iloc[trn_idx], train_data.iloc[val_idx], test_data \n",
        "      y_trn, y_val = np.log(target.iloc[trn_idx]), np.log(target.iloc[val_idx])\n",
        "\n",
        "      clf = CatBoostRegressor(n_estimators=5000,eval_metric='RMSE',\n",
        "                                learning_rate=0.175, random_seed= 42,\n",
        "                                use_best_model=True )\n",
        "      \n",
        "      clf.fit(X_trn,y_trn,eval_set=[(X_val, y_val)],\n",
        "              early_stopping_rounds=200,verbose=200)\n",
        "\n",
        "      predTrain = np.exp(clf.predict(X_val))\n",
        "      train_preds[val_idx] = predTrain\n",
        "      print(f\"RMSE : {rmse(target.iloc[val_idx], predTrain)}\")\n",
        "      layer.log({f\"FOLD {fold_} RMSE\" : rmse(target.iloc[val_idx], predTrain)})\n",
        "\n",
        "      predTest = np.exp(clf.predict(X_test))\n",
        "      predTest[predTest < 0] = 0\n",
        "      test_preds += predTest\n",
        "      print(50*'-')\n",
        "\n",
        "  test_preds = test_preds / PARAM.n_splits\n",
        "  predctions_df = pd.DataFrame(test_preds,columns=['Predicted pm2_5'])\n",
        "  layer.log({\"Sample predictions\":predctions_df.head(100)})\n",
        "\n",
        "  print(f\"Train RMSE : {rmse(target, train_preds)}\")\n",
        "  layer.log({f\"FOLD CV RMSE\" : rmse(target, train_preds)})\n",
        "\n",
        "  FILE_NAME_ = 'CatBoostModel_.csv'\n",
        "  sub_xgb = pd.DataFrame()\n",
        "  sub_xgb[\"ID\"] = testID\n",
        "  sub_xgb[\"pm2_5\"] = test_preds\n",
        "  sub_xgb.to_csv(FILE_NAME_, index=False)\n",
        "\n",
        "  files.download(FILE_NAME_)\n",
        "\n",
        "  return clf"
      ],
      "metadata": {
        "id": "svuZ6tMEPb0J"
      },
      "id": "svuZ6tMEPb0J",
      "execution_count": 22,
      "outputs": []
    },
    {
      "cell_type": "code",
      "source": [
        "catBoostModel = train_cross_validation()"
      ],
      "metadata": {
        "colab": {
          "base_uri": "https://localhost:8080/",
          "height": 53
        },
        "id": "1nk__Dhe9_Nk",
        "outputId": "c2e77a2b-c59b-4343-ce19-134df5b12e43"
      },
      "id": "1nk__Dhe9_Nk",
      "execution_count": 23,
      "outputs": [
        {
          "output_type": "display_data",
          "data": {
            "text/plain": [
              "✅  CATBOOST_MODEL       \u001b[38;2;21;127;61m━━━━━━━━━━\u001b[0m \u001b[38;2;21;127;61mDONE\u001b[0m \u001b[39m[\u001b[0m\u001b[38;2;155;155;159m1 MB/1 MB\u001b[0m\u001b[39m, \u001b[0m\u001b[38;2;155;155;159m3:28:04\u001b[0m\u001b[39m]\u001b[0m                               \n",
              "    \u001b[4;38;2;161;161;169m↳ \u001b[0m\u001b]8;id=395835;https://app.layer.ai/sodiq_damilola/Air_Quality_Hackathon/models/CATBOOST_MODEL?v=1.1\u001b\\\u001b[4;38;2;161;161;169mhttps://app.layer.ai/sodiq_damilola/Air_Quality_Hackathon/models/CATBOOST_MODEL?v=1.1\u001b[0m\u001b]8;;\u001b\\ \n"
            ],
            "text/html": [
              "<pre style=\"white-space:pre;overflow-x:auto;line-height:normal;font-family:Menlo,'DejaVu Sans Mono',consolas,'Courier New',monospace\">✅  CATBOOST_MODEL       <span style=\"color: #157f3d; text-decoration-color: #157f3d\">━━━━━━━━━━</span> <span style=\"color: #157f3d; text-decoration-color: #157f3d\">DONE</span> <span style=\"color: #000000; text-decoration-color: #000000\">[</span><span style=\"color: #9b9b9f; text-decoration-color: #9b9b9f\">1 MB/1 MB</span><span style=\"color: #000000; text-decoration-color: #000000\">, </span><span style=\"color: #9b9b9f; text-decoration-color: #9b9b9f\">3:28:04</span><span style=\"color: #000000; text-decoration-color: #000000\">]</span>                               \n",
              "    <span style=\"color: #a1a1a9; text-decoration-color: #a1a1a9; text-decoration: underline\">↳ </span><a href=\"https://app.layer.ai/sodiq_damilola/Air_Quality_Hackathon/models/CATBOOST_MODEL?v=1.1\" target=\"_blank\"><span style=\"color: #a1a1a9; text-decoration-color: #a1a1a9; text-decoration: underline\">https://app.layer.ai/sodiq_damilola/Air_Quality_Hackathon/models/CATBOOST_MODEL?v=1.1</span></a> \n",
              "</pre>\n"
            ]
          },
          "metadata": {}
        },
        {
          "output_type": "display_data",
          "data": {
            "text/plain": [],
            "text/html": [
              "<pre style=\"white-space:pre;overflow-x:auto;line-height:normal;font-family:Menlo,'DejaVu Sans Mono',consolas,'Courier New',monospace\"></pre>\n"
            ]
          },
          "metadata": {}
        },
        {
          "output_type": "display_data",
          "data": {
            "text/plain": [
              "\n"
            ],
            "text/html": [
              "<pre style=\"white-space:pre;overflow-x:auto;line-height:normal;font-family:Menlo,'DejaVu Sans Mono',consolas,'Courier New',monospace\">\n",
              "</pre>\n"
            ]
          },
          "metadata": {}
        }
      ]
    }
  ],
  "metadata": {
    "colab": {
      "collapsed_sections": [
        "fe61e9a8-0535-4021-ae7a-c3d5a4c42dcd",
        "s11VlfAkVbW4",
        "5BzYOXxBWYr4",
        "f4fc6bb3-47d2-417c-806a-8905728a5026"
      ],
      "provenance": []
    },
    "gpuClass": "standard",
    "kernelspec": {
      "display_name": "Python 3 (ipykernel)",
      "language": "python",
      "name": "python3"
    },
    "language_info": {
      "codemirror_mode": {
        "name": "ipython",
        "version": 3
      },
      "file_extension": ".py",
      "mimetype": "text/x-python",
      "name": "python",
      "nbconvert_exporter": "python",
      "pygments_lexer": "ipython3",
      "version": "3.8.13"
    },
    "widgets": {
      "application/vnd.jupyter.widget-state+json": {
        "bb4f6fe232ac4bc292931324c290fb55": {
          "model_module": "@jupyter-widgets/output",
          "model_name": "OutputModel",
          "model_module_version": "1.0.0",
          "state": {
            "_dom_classes": [],
            "_model_module": "@jupyter-widgets/output",
            "_model_module_version": "1.0.0",
            "_model_name": "OutputModel",
            "_view_count": null,
            "_view_module": "@jupyter-widgets/output",
            "_view_module_version": "1.0.0",
            "_view_name": "OutputView",
            "layout": "IPY_MODEL_622edb0d9ce646ab8e1ef050052b7eea",
            "msg_id": "",
            "outputs": [
              {
                "output_type": "display_data",
                "data": {
                  "text/plain": "\u001b[32m⠋\u001b[0m  sample_submission    \u001b[38;2;21;127;61m━━━━━━━━━━\u001b[0m \u001b[38;2;21;127;61mLOADED\u001b[0m \u001b[39m[\u001b[0m\u001b[38;2;155;155;159m0:00:01\u001b[0m\u001b[39m]\u001b[0m \n",
                  "text/html": "<pre style=\"white-space:pre;overflow-x:auto;line-height:normal;font-family:Menlo,'DejaVu Sans Mono',consolas,'Courier New',monospace\"><span style=\"color: #008000; text-decoration-color: #008000\">⠋</span>  sample_submission    <span style=\"color: #157f3d; text-decoration-color: #157f3d\">━━━━━━━━━━</span> <span style=\"color: #157f3d; text-decoration-color: #157f3d\">LOADED</span> <span style=\"color: #000000; text-decoration-color: #000000\">[</span><span style=\"color: #9b9b9f; text-decoration-color: #9b9b9f\">0:00:01</span><span style=\"color: #000000; text-decoration-color: #000000\">]</span> \n</pre>\n"
                },
                "metadata": {}
              }
            ]
          }
        },
        "622edb0d9ce646ab8e1ef050052b7eea": {
          "model_module": "@jupyter-widgets/base",
          "model_name": "LayoutModel",
          "model_module_version": "1.2.0",
          "state": {
            "_model_module": "@jupyter-widgets/base",
            "_model_module_version": "1.2.0",
            "_model_name": "LayoutModel",
            "_view_count": null,
            "_view_module": "@jupyter-widgets/base",
            "_view_module_version": "1.2.0",
            "_view_name": "LayoutView",
            "align_content": null,
            "align_items": null,
            "align_self": null,
            "border": null,
            "bottom": null,
            "display": null,
            "flex": null,
            "flex_flow": null,
            "grid_area": null,
            "grid_auto_columns": null,
            "grid_auto_flow": null,
            "grid_auto_rows": null,
            "grid_column": null,
            "grid_gap": null,
            "grid_row": null,
            "grid_template_areas": null,
            "grid_template_columns": null,
            "grid_template_rows": null,
            "height": null,
            "justify_content": null,
            "justify_items": null,
            "left": null,
            "margin": null,
            "max_height": null,
            "max_width": null,
            "min_height": null,
            "min_width": null,
            "object_fit": null,
            "object_position": null,
            "order": null,
            "overflow": null,
            "overflow_x": null,
            "overflow_y": null,
            "padding": null,
            "right": null,
            "top": null,
            "visibility": null,
            "width": null
          }
        },
        "69cd2724566c451eb655a9c8490148d1": {
          "model_module": "@jupyter-widgets/output",
          "model_name": "OutputModel",
          "model_module_version": "1.0.0",
          "state": {
            "_dom_classes": [],
            "_model_module": "@jupyter-widgets/output",
            "_model_module_version": "1.0.0",
            "_model_name": "OutputModel",
            "_view_count": null,
            "_view_module": "@jupyter-widgets/output",
            "_view_module_version": "1.0.0",
            "_view_name": "OutputView",
            "layout": "IPY_MODEL_fcc77c89fb1d4ed2a5564ac4c49152a3",
            "msg_id": "",
            "outputs": [
              {
                "output_type": "display_data",
                "data": {
                  "text/plain": "\u001b[32m⠇\u001b[0m  test                 \u001b[38;2;21;127;61m━━━━━━━━━━\u001b[0m \u001b[38;2;21;127;61mLOADED\u001b[0m \u001b[39m[\u001b[0m\u001b[38;2;155;155;159m0:00:02\u001b[0m\u001b[39m]\u001b[0m \n",
                  "text/html": "<pre style=\"white-space:pre;overflow-x:auto;line-height:normal;font-family:Menlo,'DejaVu Sans Mono',consolas,'Courier New',monospace\"><span style=\"color: #008000; text-decoration-color: #008000\">⠇</span>  test                 <span style=\"color: #157f3d; text-decoration-color: #157f3d\">━━━━━━━━━━</span> <span style=\"color: #157f3d; text-decoration-color: #157f3d\">LOADED</span> <span style=\"color: #000000; text-decoration-color: #000000\">[</span><span style=\"color: #9b9b9f; text-decoration-color: #9b9b9f\">0:00:02</span><span style=\"color: #000000; text-decoration-color: #000000\">]</span> \n</pre>\n"
                },
                "metadata": {}
              }
            ]
          }
        },
        "fcc77c89fb1d4ed2a5564ac4c49152a3": {
          "model_module": "@jupyter-widgets/base",
          "model_name": "LayoutModel",
          "model_module_version": "1.2.0",
          "state": {
            "_model_module": "@jupyter-widgets/base",
            "_model_module_version": "1.2.0",
            "_model_name": "LayoutModel",
            "_view_count": null,
            "_view_module": "@jupyter-widgets/base",
            "_view_module_version": "1.2.0",
            "_view_name": "LayoutView",
            "align_content": null,
            "align_items": null,
            "align_self": null,
            "border": null,
            "bottom": null,
            "display": null,
            "flex": null,
            "flex_flow": null,
            "grid_area": null,
            "grid_auto_columns": null,
            "grid_auto_flow": null,
            "grid_auto_rows": null,
            "grid_column": null,
            "grid_gap": null,
            "grid_row": null,
            "grid_template_areas": null,
            "grid_template_columns": null,
            "grid_template_rows": null,
            "height": null,
            "justify_content": null,
            "justify_items": null,
            "left": null,
            "margin": null,
            "max_height": null,
            "max_width": null,
            "min_height": null,
            "min_width": null,
            "object_fit": null,
            "object_position": null,
            "order": null,
            "overflow": null,
            "overflow_x": null,
            "overflow_y": null,
            "padding": null,
            "right": null,
            "top": null,
            "visibility": null,
            "width": null
          }
        },
        "98424e7b9a6045da947f595d87037f2c": {
          "model_module": "@jupyter-widgets/output",
          "model_name": "OutputModel",
          "model_module_version": "1.0.0",
          "state": {
            "_dom_classes": [],
            "_model_module": "@jupyter-widgets/output",
            "_model_module_version": "1.0.0",
            "_model_name": "OutputModel",
            "_view_count": null,
            "_view_module": "@jupyter-widgets/output",
            "_view_module_version": "1.0.0",
            "_view_name": "OutputView",
            "layout": "IPY_MODEL_603ca810d7a6477fb2eaed542ebde132",
            "msg_id": "",
            "outputs": [
              {
                "output_type": "display_data",
                "data": {
                  "text/plain": "\u001b[32m⠋\u001b[0m  train                \u001b[38;2;21;127;61m━━━━━━━━━━\u001b[0m \u001b[38;2;21;127;61mLOADED\u001b[0m \u001b[39m[\u001b[0m\u001b[38;2;155;155;159m0:00:02\u001b[0m\u001b[39m]\u001b[0m \n",
                  "text/html": "<pre style=\"white-space:pre;overflow-x:auto;line-height:normal;font-family:Menlo,'DejaVu Sans Mono',consolas,'Courier New',monospace\"><span style=\"color: #008000; text-decoration-color: #008000\">⠋</span>  train                <span style=\"color: #157f3d; text-decoration-color: #157f3d\">━━━━━━━━━━</span> <span style=\"color: #157f3d; text-decoration-color: #157f3d\">LOADED</span> <span style=\"color: #000000; text-decoration-color: #000000\">[</span><span style=\"color: #9b9b9f; text-decoration-color: #9b9b9f\">0:00:02</span><span style=\"color: #000000; text-decoration-color: #000000\">]</span> \n</pre>\n"
                },
                "metadata": {}
              }
            ]
          }
        },
        "603ca810d7a6477fb2eaed542ebde132": {
          "model_module": "@jupyter-widgets/base",
          "model_name": "LayoutModel",
          "model_module_version": "1.2.0",
          "state": {
            "_model_module": "@jupyter-widgets/base",
            "_model_module_version": "1.2.0",
            "_model_name": "LayoutModel",
            "_view_count": null,
            "_view_module": "@jupyter-widgets/base",
            "_view_module_version": "1.2.0",
            "_view_name": "LayoutView",
            "align_content": null,
            "align_items": null,
            "align_self": null,
            "border": null,
            "bottom": null,
            "display": null,
            "flex": null,
            "flex_flow": null,
            "grid_area": null,
            "grid_auto_columns": null,
            "grid_auto_flow": null,
            "grid_auto_rows": null,
            "grid_column": null,
            "grid_gap": null,
            "grid_row": null,
            "grid_template_areas": null,
            "grid_template_columns": null,
            "grid_template_rows": null,
            "height": null,
            "justify_content": null,
            "justify_items": null,
            "left": null,
            "margin": null,
            "max_height": null,
            "max_width": null,
            "min_height": null,
            "min_width": null,
            "object_fit": null,
            "object_position": null,
            "order": null,
            "overflow": null,
            "overflow_x": null,
            "overflow_y": null,
            "padding": null,
            "right": null,
            "top": null,
            "visibility": null,
            "width": null
          }
        }
      }
    }
  },
  "nbformat": 4,
  "nbformat_minor": 5
}